{
 "cells": [
  {
   "cell_type": "code",
   "execution_count": 1,
   "id": "73ecda65",
   "metadata": {},
   "outputs": [
    {
     "data": {
      "text/plain": [
       "2"
      ]
     },
     "execution_count": 1,
     "metadata": {},
     "output_type": "execute_result"
    }
   ],
   "source": [
    "1+1"
   ]
  },
  {
   "cell_type": "markdown",
   "id": "a161b5de",
   "metadata": {},
   "source": [
    "#  Test Markdown"
   ]
  },
  {
   "cell_type": "markdown",
   "id": "19d5ca00",
   "metadata": {},
   "source": [
    "## Test Markdown"
   ]
  },
  {
   "cell_type": "markdown",
   "id": "b1b82b45",
   "metadata": {},
   "source": [
    "| Name | Age |\n",
    "| -----|-----|\n",
    "|Hoan|24|"
   ]
  },
  {
   "cell_type": "code",
   "execution_count": null,
   "id": "102c20f3",
   "metadata": {},
   "outputs": [],
   "source": []
  },
  {
   "cell_type": "markdown",
   "id": "afc694c0",
   "metadata": {},
   "source": [
    "|Name|Age|Addess|\n",
    "|----|---|------|\n",
    "|Hoan|28|Nam Định|\n",
    "|Giang|27|Hà Nội|\n",
    "|Quyết|28|Bắc Giang|\n",
    "|Đạt|28|Hà Nam|\n",
    "\n"
   ]
  }
 ],
 "metadata": {
  "kernelspec": {
   "display_name": "Python 3 (ipykernel)",
   "language": "python",
   "name": "python3"
  },
  "language_info": {
   "codemirror_mode": {
    "name": "ipython",
    "version": 3
   },
   "file_extension": ".py",
   "mimetype": "text/x-python",
   "name": "python",
   "nbconvert_exporter": "python",
   "pygments_lexer": "ipython3",
   "version": "3.10.7"
  }
 },
 "nbformat": 4,
 "nbformat_minor": 5
}
